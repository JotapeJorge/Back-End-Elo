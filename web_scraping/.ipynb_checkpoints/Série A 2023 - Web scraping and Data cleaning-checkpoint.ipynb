{
 "cells": [
  {
   "cell_type": "code",
   "execution_count": null,
   "id": "1fc2dce4",
   "metadata": {},
   "outputs": [],
   "source": [
    "import pandas as pd\n",
    "import requests\n",
    "from bs4 import BeautifulSoup\n",
    "import csv\n",
    "\n",
    "# Step 1: Make a request to the webpage URL and extract data from fourth table\n",
    "url = 'https://www.chancedegol.com.br/br23.htm'\n",
    "response = requests.get(url)\n",
    "soup = BeautifulSoup(response.content, 'html.parser')\n",
    "table = soup.find_all('table')[7]\n",
    "\n",
    "# Step 2: Loop through the rows of the table and extract the data from the cells\n",
    "data = []\n",
    "for row in table.find_all('tr'):\n",
    "    cols = row.find_all('td')\n",
    "    cols = [col.text.strip() for col in cols]\n",
    "    data.append(cols)\n",
    "\n",
    "# Step 3: Write the data to a CSV file\n",
    "with open('data/dataBRA23raw.csv', 'w', newline='', encoding='utf-8-sig') as file:\n",
    "    writer = csv.writer(file)\n",
    "    writer.writerows(data)\n",
    "    \n"
   ]
  },
  {
   "cell_type": "code",
   "execution_count": null,
   "id": "2752256b",
   "metadata": {},
   "outputs": [],
   "source": [
    "df = pd.read_csv('data/dataBRA23raw.csv')\n",
    "df"
   ]
  },
  {
   "cell_type": "code",
   "execution_count": null,
   "id": "98b496c5",
   "metadata": {},
   "outputs": [],
   "source": [
    "#Step 8: cleaning data frame\n",
    "\n",
    "df.rename(columns={'Mandante':'Casa','Visitante':'Fora'}, inplace =True)\n",
    "#changes dtype to datetime in first dataframe\n",
    "df['Data'] = pd.to_datetime(df['Data'], infer_datetime_format=True, errors='coerce')\n",
    "#creates a new column with the for the competition name\n",
    "\n",
    "df = df.assign(Comp='Série A')\n",
    "\n",
    "#separets the results of second dataframe into new columns\n",
    "new = df[\"Unnamed: 2\"].str.split(\"x\", n = 1, expand = True)\n",
    "df[\"GC\"]= new[0] \n",
    "df[\"GF\"]= new[1]\n",
    "#creates new column with competition name\n",
    "\n",
    "#comparing scores to display the results in the second dataframe\n",
    "df.loc[df['GC'] == df['GF'], 'Res'] = 'E'\n",
    "df.loc[df['GC'] > df['GF'], 'Res'] = 'VC' \n",
    "df.loc[df['GC'] < df['GF'], 'Res'] = 'VV'\n",
    "# create a new column to store the season information in the second data frame\n",
    "df['Data'] = pd.to_datetime(df['Data'], infer_datetime_format=True, errors='coerce')\n",
    "df['Temp'] = df['Data'].dt.year\n",
    "#organizes de columns of the sacond dataframe\n",
    "new_order = ['Comp','Temp','Data','Casa','GC', 'GF','Fora','Res']\n",
    "df= df.reindex(columns=new_order)\n",
    "\n",
    "\n",
    "\n",
    "df.replace({'América MG': 'América-MG',\n",
    "            'Atlético MG': 'Atlético-MG',\n",
    "            'Athletico PR': 'Athletico-PR',                   \n",
    "            }, inplace=True)\n",
    "\n",
    "#drops unvalid data\n",
    "df.dropna(axis=0, how='all', inplace=True)\n",
    "#sort values by date\n",
    "df = df.sort_values(by='Data')\n",
    "\n",
    "#atributes a pontuation to each game\n",
    "df['PC'] = df.apply(lambda x: 3 if x['Res'] == 'VC' else\n",
    "                              1 if x['Res'] == 'E' else 0, axis=1)\n",
    "df['PF'] = df.apply(lambda x: 3 if x['Res'] == 'VV' else\n",
    "                              1 if x['Res'] == 'E' else 0, axis=1)\n",
    "\n",
    "#atributes a number of games for each season\n",
    "df['J'] = df.groupby('Temp').cumcount() + 1\n",
    "#corrects any possible issue before saving as new file\n",
    "df = df.dropna()\n",
    "df = df.drop(index = 0)\n",
    "df"
   ]
  },
  {
   "cell_type": "code",
   "execution_count": null,
   "id": "ed7f0001",
   "metadata": {},
   "outputs": [],
   "source": [
    "\n",
    "df.to_csv('data/dataBRA23.csv', index=False)\n",
    "df"
   ]
  },
  {
   "cell_type": "code",
   "execution_count": null,
   "id": "ac1e4ebf",
   "metadata": {},
   "outputs": [],
   "source": [
    "df.tail(10)"
   ]
  },
  {
   "cell_type": "code",
   "execution_count": null,
   "id": "5de86362",
   "metadata": {},
   "outputs": [],
   "source": []
  },
  {
   "cell_type": "code",
   "execution_count": null,
   "id": "f37522ed",
   "metadata": {},
   "outputs": [],
   "source": []
  },
  {
   "cell_type": "code",
   "execution_count": null,
   "id": "1eff5f33",
   "metadata": {},
   "outputs": [],
   "source": []
  },
  {
   "cell_type": "code",
   "execution_count": null,
   "id": "e0a52917",
   "metadata": {},
   "outputs": [],
   "source": []
  }
 ],
 "metadata": {
  "kernelspec": {
   "display_name": "Python 3 (ipykernel)",
   "language": "python",
   "name": "python3"
  },
  "language_info": {
   "codemirror_mode": {
    "name": "ipython",
    "version": 3
   },
   "file_extension": ".py",
   "mimetype": "text/x-python",
   "name": "python",
   "nbconvert_exporter": "python",
   "pygments_lexer": "ipython3",
   "version": "3.9.12"
  }
 },
 "nbformat": 4,
 "nbformat_minor": 5
}
